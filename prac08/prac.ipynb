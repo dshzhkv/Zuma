{
  "cells": [
    {
      "cell_type": "code",
      "source": [
        "import scipy.stats"
      ],
      "metadata": {
        "id": "Z1VTnZ8jksU3"
      },
      "execution_count": 2,
      "outputs": []
    },
    {
      "cell_type": "code",
      "source": [
        "# 1\n",
        "\n",
        "sigma = 10\n",
        "alpha = 1 - 0.9\n",
        "average = 249\n",
        "n = 100\n",
        "\n",
        "left_quantile, right_quantile = scipy.stats.norm.ppf(alpha / 2), scipy.stats.norm.ppf(1 - alpha / 2)  # u\n",
        "\n",
        "left_border, right_border = average - right_quantile * sigma / (n ** 0.5), average - left_quantile * sigma / (n ** 0.5)\n",
        "\n",
        "left_border, right_border"
      ],
      "metadata": {
        "colab": {
          "base_uri": "https://localhost:8080/"
        },
        "id": "EyENzxkKRiYT",
        "outputId": "bab7a32f-8315-4442-b284-06fe3d4f580e"
      },
      "execution_count": 3,
      "outputs": [
        {
          "output_type": "execute_result",
          "data": {
            "text/plain": [
              "(247.35514637304854, 250.64485362695146)"
            ]
          },
          "metadata": {},
          "execution_count": 3
        }
      ]
    },
    {
      "cell_type": "code",
      "source": [
        "# 2\n",
        "\n",
        "n = 10000\n",
        "m = 4000\n",
        "alpha = 1 - 0.95\n",
        "\n",
        "pp = m / n\n",
        "left_quantile, right_quantile = scipy.stats.norm.ppf(alpha / 2), scipy.stats.norm.ppf(1 - alpha / 2)\n",
        "l, r = left_quantile * (pp * (1 - pp)) * (1 / n ** 0.5) + pp, right_quantile * (pp * (1 - pp)) * (1 / n ** 0.5) + pp\n",
        "\n",
        "l, r"
      ],
      "metadata": {
        "colab": {
          "base_uri": "https://localhost:8080/"
        },
        "id": "vXtAMEfOkom3",
        "outputId": "6ab0c617-f7e7-4bec-d672-231c8028344d"
      },
      "execution_count": 4,
      "outputs": [
        {
          "output_type": "execute_result",
          "data": {
            "text/plain": [
              "(0.3952960864371039, 0.40470391356289614)"
            ]
          },
          "metadata": {},
          "execution_count": 4
        }
      ]
    },
    {
      "cell_type": "code",
      "source": [
        "# 3\n",
        "\n",
        "data = [0.47, 0.13, -0.98, 0.74, -2.11, -3.36, -0.35, -2.21, 1.14, -0.13, 1.12, 1.49, 0.77, 0.79, 1.13, -1.45, 0.92, -0.08, 0.62, -0.51]\n",
        "a = 0\n",
        "alpha = 1 - 0.95\n",
        "n = len(data)\n",
        "s = sum([x * x for x in data]) / (n - 1)\n",
        "left_x, right_x = scipy.stats.chi2(df=n).ppf(alpha / 2), scipy.stats.chi2(df=n).ppf(1 - alpha / 2)\n",
        "l, r = (n - 1) * s / right_x, (n - 1) * s / left_x\n",
        "\n",
        "l, r"
      ],
      "metadata": {
        "colab": {
          "base_uri": "https://localhost:8080/"
        },
        "id": "Qjyfe6Ouk2eE",
        "outputId": "9a9d0981-555a-4dbe-ff39-1a8beeafc59e"
      },
      "execution_count": 6,
      "outputs": [
        {
          "output_type": "execute_result",
          "data": {
            "text/plain": [
              "(0.9768564237485374, 3.4803018185909087)"
            ]
          },
          "metadata": {},
          "execution_count": 6
        }
      ]
    },
    {
      "cell_type": "code",
      "source": [
        "# 4\n",
        "\n",
        "sigma = 20\n",
        "alpha = 1 - 0.9\n",
        "mu = 15\n",
        "q = scipy.stats.norm.ppf(1 - alpha / 2)\n",
        "n_sqrt = q * sigma / 15\n",
        "n = n_sqrt * n_sqrt\n",
        "round(n)"
      ],
      "metadata": {
        "colab": {
          "base_uri": "https://localhost:8080/"
        },
        "id": "dyKAkuO2k4S_",
        "outputId": "c6554a55-8031-4b11-ea42-b48c9c78102e"
      },
      "execution_count": 5,
      "outputs": [
        {
          "output_type": "execute_result",
          "data": {
            "text/plain": [
              "5"
            ]
          },
          "metadata": {},
          "execution_count": 5
        }
      ]
    }
  ],
  "metadata": {
    "kernelspec": {
      "display_name": "Python 3",
      "language": "python",
      "name": "python3"
    },
    "language_info": {
      "codemirror_mode": {
        "name": "ipython",
        "version": 3
      },
      "file_extension": ".py",
      "mimetype": "text/x-python",
      "name": "python",
      "nbconvert_exporter": "python",
      "pygments_lexer": "ipython3",
      "version": "3.8.8"
    },
    "colab": {
      "name": "prac.ipynb",
      "provenance": []
    }
  },
  "nbformat": 4,
  "nbformat_minor": 0
}